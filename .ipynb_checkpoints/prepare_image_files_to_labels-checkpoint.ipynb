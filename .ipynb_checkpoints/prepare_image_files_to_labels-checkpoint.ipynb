{
 "cells": [
  {
   "cell_type": "code",
   "execution_count": 105,
   "metadata": {},
   "outputs": [],
   "source": [
    "import os\n",
    "import numpy as np\n",
    "import pandas as pd\n",
    "from os.path import isfile, join\n",
    "from os import listdir\n",
    "import matplotlib.pyplot as plt\n",
    "from tqdm import tqdm"
   ]
  },
  {
   "cell_type": "code",
   "execution_count": 94,
   "metadata": {},
   "outputs": [],
   "source": [
    "def analyse_images(path_to_images):\n",
    "    image_files = [f for f in listdir(path_to_images) if isfile(join(path_to_images, f))]\n",
    "    df = pd.DataFrame(columns=['file_name', 'channel', 'weigth', 'heigth'])\n",
    "    count = 0\n",
    "    for file in image_files:\n",
    "        img = Image.open(join(path_to_images, file))\n",
    "        np_shape = np.asarray(img).shape    \n",
    "        if len(np_shape)==2:\n",
    "            df.loc[count,:] = [file] + [1, np_shape[0], np_shape[1]]\n",
    "        else:\n",
    "            df.loc[count,:] = [file] + [np_shape[2], np_shape[0], np_shape[1]]\n",
    "        count+=1\n",
    "    df = df.astype({\"channel\": int,\"weigth\": int, \"heigth\": int})\n",
    "    return df"
   ]
  },
  {
   "cell_type": "code",
   "execution_count": 95,
   "metadata": {},
   "outputs": [
    {
     "data": {
      "text/html": [
       "<div>\n",
       "<style scoped>\n",
       "    .dataframe tbody tr th:only-of-type {\n",
       "        vertical-align: middle;\n",
       "    }\n",
       "\n",
       "    .dataframe tbody tr th {\n",
       "        vertical-align: top;\n",
       "    }\n",
       "\n",
       "    .dataframe thead th {\n",
       "        text-align: right;\n",
       "    }\n",
       "</style>\n",
       "<table border=\"1\" class=\"dataframe\">\n",
       "  <thead>\n",
       "    <tr style=\"text-align: right;\">\n",
       "      <th></th>\n",
       "      <th>file_name</th>\n",
       "      <th>channel</th>\n",
       "      <th>weigth</th>\n",
       "      <th>heigth</th>\n",
       "    </tr>\n",
       "  </thead>\n",
       "  <tbody>\n",
       "    <tr>\n",
       "      <th>4</th>\n",
       "      <td>comet_detection_102.jfif</td>\n",
       "      <td>3</td>\n",
       "      <td>259</td>\n",
       "      <td>195</td>\n",
       "    </tr>\n",
       "    <tr>\n",
       "      <th>56</th>\n",
       "      <td>comet_detection_57.jfif</td>\n",
       "      <td>3</td>\n",
       "      <td>195</td>\n",
       "      <td>258</td>\n",
       "    </tr>\n",
       "    <tr>\n",
       "      <th>57</th>\n",
       "      <td>comet_detection_58.jfif</td>\n",
       "      <td>3</td>\n",
       "      <td>195</td>\n",
       "      <td>258</td>\n",
       "    </tr>\n",
       "    <tr>\n",
       "      <th>60</th>\n",
       "      <td>comet_detection_60.jfif</td>\n",
       "      <td>3</td>\n",
       "      <td>194</td>\n",
       "      <td>259</td>\n",
       "    </tr>\n",
       "    <tr>\n",
       "      <th>61</th>\n",
       "      <td>comet_detection_61.jfif</td>\n",
       "      <td>3</td>\n",
       "      <td>183</td>\n",
       "      <td>275</td>\n",
       "    </tr>\n",
       "    <tr>\n",
       "      <th>62</th>\n",
       "      <td>comet_detection_62.jfif</td>\n",
       "      <td>3</td>\n",
       "      <td>185</td>\n",
       "      <td>272</td>\n",
       "    </tr>\n",
       "    <tr>\n",
       "      <th>63</th>\n",
       "      <td>comet_detection_63.jfif</td>\n",
       "      <td>3</td>\n",
       "      <td>182</td>\n",
       "      <td>276</td>\n",
       "    </tr>\n",
       "    <tr>\n",
       "      <th>64</th>\n",
       "      <td>comet_detection_64.jfif</td>\n",
       "      <td>3</td>\n",
       "      <td>259</td>\n",
       "      <td>194</td>\n",
       "    </tr>\n",
       "    <tr>\n",
       "      <th>65</th>\n",
       "      <td>comet_detection_65.jfif</td>\n",
       "      <td>3</td>\n",
       "      <td>183</td>\n",
       "      <td>275</td>\n",
       "    </tr>\n",
       "    <tr>\n",
       "      <th>66</th>\n",
       "      <td>comet_detection_66.jfif</td>\n",
       "      <td>3</td>\n",
       "      <td>143</td>\n",
       "      <td>353</td>\n",
       "    </tr>\n",
       "    <tr>\n",
       "      <th>67</th>\n",
       "      <td>comet_detection_67.jfif</td>\n",
       "      <td>3</td>\n",
       "      <td>183</td>\n",
       "      <td>276</td>\n",
       "    </tr>\n",
       "    <tr>\n",
       "      <th>68</th>\n",
       "      <td>comet_detection_68.jfif</td>\n",
       "      <td>3</td>\n",
       "      <td>176</td>\n",
       "      <td>287</td>\n",
       "    </tr>\n",
       "    <tr>\n",
       "      <th>69</th>\n",
       "      <td>comet_detection_69.jfif</td>\n",
       "      <td>3</td>\n",
       "      <td>183</td>\n",
       "      <td>275</td>\n",
       "    </tr>\n",
       "  </tbody>\n",
       "</table>\n",
       "</div>"
      ],
      "text/plain": [
       "                   file_name  channel  weigth  heigth\n",
       "4   comet_detection_102.jfif        3     259     195\n",
       "56   comet_detection_57.jfif        3     195     258\n",
       "57   comet_detection_58.jfif        3     195     258\n",
       "60   comet_detection_60.jfif        3     194     259\n",
       "61   comet_detection_61.jfif        3     183     275\n",
       "62   comet_detection_62.jfif        3     185     272\n",
       "63   comet_detection_63.jfif        3     182     276\n",
       "64   comet_detection_64.jfif        3     259     194\n",
       "65   comet_detection_65.jfif        3     183     275\n",
       "66   comet_detection_66.jfif        3     143     353\n",
       "67   comet_detection_67.jfif        3     183     276\n",
       "68   comet_detection_68.jfif        3     176     287\n",
       "69   comet_detection_69.jfif        3     183     275"
      ]
     },
     "execution_count": 95,
     "metadata": {},
     "output_type": "execute_result"
    }
   ],
   "source": [
    "# looks for orignal images\n",
    "path_to_images = 'C:\\\\Users\\\\demko_r\\\\ML\\\\Electiv_CV\\\\images\\\\'\n",
    "df = analyse_images(path_to_images)\n",
    "df[(df.weigth < 200) | (df.heigth < 200)]"
   ]
  },
  {
   "cell_type": "code",
   "execution_count": 96,
   "metadata": {},
   "outputs": [
    {
     "data": {
      "text/plain": [
       "array([[<AxesSubplot:title={'center':'channel'}>]], dtype=object)"
      ]
     },
     "execution_count": 96,
     "metadata": {},
     "output_type": "execute_result"
    },
    {
     "data": {
      "image/png": "[encoded data removed]",
      "text/plain": [
       "<Figure size 432x288 with 1 Axes>"
      ]
     },
     "metadata": {
      "needs_background": "light"
     },
     "output_type": "display_data"
    }
   ],
   "source": [
    "df.hist('channel')"
   ]
  },
  {
   "cell_type": "code",
   "execution_count": 97,
   "metadata": {},
   "outputs": [
    {
     "data": {
      "text/plain": [
       "array([[<AxesSubplot:title={'center':'weigth'}>]], dtype=object)"
      ]
     },
     "execution_count": 97,
     "metadata": {},
     "output_type": "execute_result"
    },
    {
     "data": {
      "image/png": "[encoded data removed]",
      "text/plain": [
       "<Figure size 432x288 with 1 Axes>"
      ]
     },
     "metadata": {
      "needs_background": "light"
     },
     "output_type": "display_data"
    }
   ],
   "source": [
    "df.hist('weigth')"
   ]
  },
  {
   "cell_type": "code",
   "execution_count": 98,
   "metadata": {},
   "outputs": [
    {
     "data": {
      "text/plain": [
       "array([[<AxesSubplot:title={'center':'heigth'}>]], dtype=object)"
      ]
     },
     "execution_count": 98,
     "metadata": {},
     "output_type": "execute_result"
    },
    {
     "data": {
      "image/png": "[encoded data removed]",
      "text/plain": [
       "<Figure size 432x288 with 1 Axes>"
      ]
     },
     "metadata": {
      "needs_background": "light"
     },
     "output_type": "display_data"
    }
   ],
   "source": [
    "df.hist('heigth')"
   ]
  },
  {
   "cell_type": "code",
   "execution_count": 104,
   "metadata": {},
   "outputs": [
    {
     "name": "stderr",
     "output_type": "stream",
     "text": [
      "100%|██████████| 103/103 [00:02<00:00, 38.43it/s]\n"
     ]
    }
   ],
   "source": [
    "def image_pred_proccesing(path_to_images,path_to_preproc_images,ext='jpg'):\n",
    "    image_files = [f for f in listdir(path_to_images) if isfile(join(path_to_images, f))]\n",
    "    for file in tqdm(image_files,total=len(image_files)): \n",
    "        pil_img = Image.open(join(path_to_images, file))\n",
    "        np_arr = np.asarray(pil_img)\n",
    "        np_shape = np_arr.shape\n",
    "        #print(np_shape)\n",
    "        # let's check channel number and convert to 3-channel image\n",
    "        if len(np_shape) < 3:\n",
    "            # one channel image\n",
    "            np_arr = np.dstack((np_arr,np_arr,np_arr))\n",
    "        elif np_shape[2] == 1:\n",
    "            np_arr = np.concatenate((np_arr,np_arr[:,:,0],np_arr[:,:,0]),axis=2)\n",
    "        elif np_shape[2] == 2:\n",
    "            np_arr = np.concatenate((np_arr,np_arr[:,:,0]),axis=2)\n",
    "        elif np_shape[2] > 3:\n",
    "            # if channel more than 3, left only firs 3 channels\n",
    "            np_arr = np_arr[:,:,0:3]\n",
    "        new_img = Image.fromarray(np_arr,mode = 'RGB')\n",
    "        img_resize = new_img.resize((500,500))\n",
    "        file, _ = os.path.splitext(file)\n",
    "        img_resize.save(f'{path_to_preproc_images}{file}.{ext}')\n",
    "        \n",
    "path_to_images = 'C:\\\\Users\\\\demko_r\\\\ML\\\\Electiv_CV\\\\images\\\\'\n",
    "path_to_preproc_images = 'C:\\\\Users\\\\demko_r\\\\ML\\\\Electiv_CV\\\\resize_images\\\\'\n",
    "image_pred_proccesing(path_to_images,path_to_preproc_images)\n"
   ]
  },
  {
   "cell_type": "code",
   "execution_count": 3,
   "metadata": {},
   "outputs": [],
   "source": [
    "def rename_images(path_to_images, index):\n",
    "    image_files = [f for f in listdir(path_to_images) if isfile(join(path_to_images, f))]\n",
    "    for file in tqdm(image_files,total=len(image_files)):\n",
    "        sp_file_name = file.split('.')\n",
    "        os.rename(join(path_to_images, file),join(path_to_images, f'comet_detection_{index}.{sp_file_name[-1]}'))\n",
    "        index +=1\n",
    "    print('Done')"
   ]
  }
 ],
 "metadata": {
  "kernelspec": {
   "display_name": "Python 3",
   "language": "python",
   "name": "python3"
  },
  "language_info": {
   "codemirror_mode": {
    "name": "ipython",
    "version": 3
   },
   "file_extension": ".py",
   "mimetype": "text/x-python",
   "name": "python",
   "nbconvert_exporter": "python",
   "pygments_lexer": "ipython3",
   "version": "3.8.5"
  }
 },
 "nbformat": 4,
 "nbformat_minor": 4
}
